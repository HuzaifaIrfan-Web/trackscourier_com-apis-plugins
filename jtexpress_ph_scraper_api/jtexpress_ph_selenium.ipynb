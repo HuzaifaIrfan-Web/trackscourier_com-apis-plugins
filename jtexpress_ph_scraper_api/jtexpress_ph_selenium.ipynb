{
 "cells": [
  {
   "cell_type": "code",
   "execution_count": 1,
   "metadata": {},
   "outputs": [],
   "source": [
    "\n",
    "from bs4 import BeautifulSoup\n",
    "\n",
    "import uuid\n",
    "\n",
    "\n",
    "from selenium import webdriver\n",
    "from selenium.webdriver.chrome.options import Options\n",
    "from selenium.webdriver.common.by import By\n",
    "from selenium.webdriver.support.ui import WebDriverWait\n",
    "from selenium.webdriver.support import expected_conditions as EC\n",
    "\n",
    "chrome_opt = Options()\n",
    "# chrome_opt.add_argument('--headless')\n",
    "chrome_opt.add_argument('--no-sandbox')\n",
    "chrome_opt.add_argument('--disable-dev-sh--usage')\n",
    "\n",
    "chrome_prefs = {}\n",
    "chrome_prefs[\"profile.default_content_settings\"] = {\"images\": 2}\n",
    "chrome_prefs[\"profile.managed_default_content_settings\"] = {\"images\": 2}\n",
    "chrome_opt.experimental_options[\"prefs\"] = chrome_prefs\n"
   ]
  },
  {
   "cell_type": "code",
   "execution_count": 2,
   "metadata": {},
   "outputs": [],
   "source": [
    "tnum=930251506985"
   ]
  },
  {
   "cell_type": "code",
   "execution_count": 3,
   "metadata": {},
   "outputs": [],
   "source": [
    "url=f'https://www.jtexpress.ph/index/query/gzquery.html?bills={tnum}'"
   ]
  },
  {
   "cell_type": "code",
   "execution_count": 4,
   "metadata": {},
   "outputs": [],
   "source": [
    "driver = webdriver.Chrome(options=chrome_opt)\n",
    "driver.get(url)"
   ]
  },
  {
   "cell_type": "code",
   "execution_count": 13,
   "metadata": {},
   "outputs": [],
   "source": [
    "# el = driver.find_element_by_class_name('bill_state_list')\n",
    "\n",
    "el = driver.find_element(By.CLASS_NAME, \"bill_state_list\")\n"
   ]
  },
  {
   "cell_type": "code",
   "execution_count": 14,
   "metadata": {},
   "outputs": [],
   "source": [
    "innerHtml=el.get_attribute('innerHTML')"
   ]
  },
  {
   "cell_type": "code",
   "execution_count": null,
   "id": "e7a4eea5",
   "metadata": {},
   "outputs": [],
   "source": []
  },
  {
   "cell_type": "code",
   "execution_count": 22,
   "metadata": {},
   "outputs": [],
   "source": [
    "soup = BeautifulSoup(innerHtml, 'html.parser')"
   ]
  },
  {
   "cell_type": "code",
   "execution_count": 26,
   "metadata": {},
   "outputs": [],
   "source": [
    "histories_div=soup.find_all(class_=\"bill_state_item\")"
   ]
  },
  {
   "cell_type": "code",
   "execution_count": 27,
   "id": "5296622f",
   "metadata": {},
   "outputs": [
    {
     "data": {
      "text/plain": [
       "11"
      ]
     },
     "execution_count": 27,
     "metadata": {},
     "output_type": "execute_result"
    }
   ],
   "source": [
    "len(histories_div)"
   ]
  },
  {
   "cell_type": "code",
   "execution_count": 10,
   "metadata": {},
   "outputs": [],
   "source": []
  },
  {
   "cell_type": "code",
   "execution_count": 43,
   "metadata": {},
   "outputs": [],
   "source": [
    "status_histories=[]"
   ]
  },
  {
   "cell_type": "code",
   "execution_count": 44,
   "metadata": {},
   "outputs": [],
   "source": [
    "for div in histories_div:\n",
    "    bill_state_day=div.find(class_=\"bill_state_day\").text\n",
    "    # print(bill_state_day.text)\n",
    "\n",
    "    bill_state_text=div.find(class_=\"bill_state_text\")\n",
    "    # print(bill_state_text)\n",
    "\n",
    "    states=bill_state_text.find_all(\"p\")\n",
    "    # print(states)\n",
    "\n",
    "    location=states[0].text\n",
    "\n",
    "    city=states[1].text\n",
    "\n",
    "    detail=states[2].text.replace(\",Due to the implementation of community quarantine which limits transportation and mobility, delivery schedules may get affected.Thank you for your patience and understanding.\", \"\")\n",
    "\n",
    "    try:\n",
    "        status=states[3].text\n",
    "\n",
    "    except:\n",
    "        status=\"\"\n",
    "\n",
    "    status_history={'datetime':bill_state_day,'location':location,'city':city,'detail':detail,'status':status}\n",
    "\n",
    "    status_histories.append(status_history)\n",
    "            \n",
    "\n",
    "   \n",
    "\n",
    "\n"
   ]
  },
  {
   "cell_type": "code",
   "execution_count": 45,
   "metadata": {},
   "outputs": [
    {
     "data": {
      "text/plain": [
       "[{'datetime': '2021-12-08 09:09:22',\n",
       "  'location': 'Drop Point Lucban-1',\n",
       "  'city': 'City：LUCBAN',\n",
       "  'detail': 'Picked Up by Asuncion Añonuevo',\n",
       "  'status': ''},\n",
       " {'datetime': '2021-12-08 17:52:30',\n",
       "  'location': 'Transit Center',\n",
       "  'city': 'City：LUCBAN',\n",
       "  'detail': 'by【Lucban-1】send package【LagunaDC1】',\n",
       "  'status': 'Departed to LagunaDC1'},\n",
       " {'datetime': '2021-12-08 23:30:55',\n",
       "  'location': 'Transit Center',\n",
       "  'city': 'City：CALAMBA-CITY',\n",
       "  'detail': 'package is arrived to destination【LagunaDC1】',\n",
       "  'status': 'Arrived'},\n",
       " {'datetime': '2021-12-08 23:46:40',\n",
       "  'location': 'Transit Center',\n",
       "  'city': 'City：CALAMBA-CITY',\n",
       "  'detail': 'by【LagunaDC1】send package【Davao Del SulDC1】',\n",
       "  'status': 'Departed to Davao Del SulDC1'},\n",
       " {'datetime': '2021-12-27 01:45:33',\n",
       "  'location': 'Transit Center',\n",
       "  'city': 'City：DAVAO-CITY',\n",
       "  'detail': 'package is arrived to destination【Davao Del SulDC1】',\n",
       "  'status': 'Arrived'},\n",
       " {'datetime': '2021-12-27 03:36:15',\n",
       "  'location': 'Transit Center',\n",
       "  'city': 'City：DAVAO-CITY',\n",
       "  'detail': 'by【Davao Del SulDC1】send package【Davao Del NorteDC1】',\n",
       "  'status': 'Departed to Davao Del NorteDC1'},\n",
       " {'datetime': '2021-12-27 06:35:40',\n",
       "  'location': 'Transit Center',\n",
       "  'city': 'City：TAGUM-CITY',\n",
       "  'detail': 'package is arrived to destination【Davao Del NorteDC1】',\n",
       "  'status': 'Arrived'},\n",
       " {'datetime': '2021-12-27 14:31:13',\n",
       "  'location': 'Transit Center',\n",
       "  'city': 'City：TAGUM-CITY',\n",
       "  'detail': 'by【Davao Del NorteDC1】send package【TAGUM-2】',\n",
       "  'status': 'Departed to TAGUM-2'},\n",
       " {'datetime': '2021-12-27 16:04:31',\n",
       "  'location': 'Transit Center',\n",
       "  'city': 'City：TAGUM-CITY',\n",
       "  'detail': 'package is arrived to destination【TAGUM-2】',\n",
       "  'status': 'Arrived'},\n",
       " {'datetime': '2021-12-28 08:40:28',\n",
       "  'location': 'Drop Point TAGUM-2',\n",
       "  'city': 'City：TAGUM-CITY',\n",
       "  'detail': '【TAGUM-2】sprinter【Renan Fonollera:639096151588】is sending',\n",
       "  'status': 'On Delivery by Renan Fonollera'},\n",
       " {'datetime': '2021-12-28 14:52:14',\n",
       "  'location': 'Drop Point TAGUM-2',\n",
       "  'city': 'City：TAGUM-CITY',\n",
       "  'detail': 'Delivered to Edmundo',\n",
       "  'status': ''}]"
      ]
     },
     "execution_count": 45,
     "metadata": {},
     "output_type": "execute_result"
    }
   ],
   "source": [
    "status_histories"
   ]
  },
  {
   "cell_type": "code",
   "execution_count": 100,
   "metadata": {},
   "outputs": [
    {
     "name": "stdout",
     "output_type": "stream",
     "text": [
      "['SELANGOR', 'KELANTAN']\n"
     ]
    }
   ],
   "source": []
  },
  {
   "cell_type": "code",
   "execution_count": 101,
   "metadata": {},
   "outputs": [],
   "source": []
  },
  {
   "cell_type": "code",
   "execution_count": 46,
   "metadata": {},
   "outputs": [],
   "source": [
    "return_obj={'tnum':tnum,'status_histories':status_histories}"
   ]
  },
  {
   "cell_type": "code",
   "execution_count": 47,
   "metadata": {},
   "outputs": [
    {
     "name": "stdout",
     "output_type": "stream",
     "text": [
      "{'tnum': 930251506985, 'status_histories': [{'datetime': '2021-12-08 09:09:22', 'location': 'Drop Point Lucban-1', 'city': 'City：LUCBAN', 'detail': 'Picked Up by Asuncion Añonuevo', 'status': ''}, {'datetime': '2021-12-08 17:52:30', 'location': 'Transit Center', 'city': 'City：LUCBAN', 'detail': 'by【Lucban-1】send package【LagunaDC1】', 'status': 'Departed to LagunaDC1'}, {'datetime': '2021-12-08 23:30:55', 'location': 'Transit Center', 'city': 'City：CALAMBA-CITY', 'detail': 'package is arrived to destination【LagunaDC1】', 'status': 'Arrived'}, {'datetime': '2021-12-08 23:46:40', 'location': 'Transit Center', 'city': 'City：CALAMBA-CITY', 'detail': 'by【LagunaDC1】send package【Davao Del SulDC1】', 'status': 'Departed to Davao Del SulDC1'}, {'datetime': '2021-12-27 01:45:33', 'location': 'Transit Center', 'city': 'City：DAVAO-CITY', 'detail': 'package is arrived to destination【Davao Del SulDC1】', 'status': 'Arrived'}, {'datetime': '2021-12-27 03:36:15', 'location': 'Transit Center', 'city': 'City：DAVAO-CITY', 'detail': 'by【Davao Del SulDC1】send package【Davao Del NorteDC1】', 'status': 'Departed to Davao Del NorteDC1'}, {'datetime': '2021-12-27 06:35:40', 'location': 'Transit Center', 'city': 'City：TAGUM-CITY', 'detail': 'package is arrived to destination【Davao Del NorteDC1】', 'status': 'Arrived'}, {'datetime': '2021-12-27 14:31:13', 'location': 'Transit Center', 'city': 'City：TAGUM-CITY', 'detail': 'by【Davao Del NorteDC1】send package【TAGUM-2】', 'status': 'Departed to TAGUM-2'}, {'datetime': '2021-12-27 16:04:31', 'location': 'Transit Center', 'city': 'City：TAGUM-CITY', 'detail': 'package is arrived to destination【TAGUM-2】', 'status': 'Arrived'}, {'datetime': '2021-12-28 08:40:28', 'location': 'Drop Point TAGUM-2', 'city': 'City：TAGUM-CITY', 'detail': '【TAGUM-2】sprinter【Renan Fonollera:639096151588】is sending', 'status': 'On Delivery by Renan Fonollera'}, {'datetime': '2021-12-28 14:52:14', 'location': 'Drop Point TAGUM-2', 'city': 'City：TAGUM-CITY', 'detail': 'Delivered to Edmundo', 'status': ''}]}\n"
     ]
    }
   ],
   "source": [
    "print(return_obj)"
   ]
  }
 ],
 "metadata": {
  "kernelspec": {
   "display_name": "Python 3 (ipykernel)",
   "language": "python",
   "name": "python3"
  },
  "language_info": {
   "codemirror_mode": {
    "name": "ipython",
    "version": 3
   },
   "file_extension": ".py",
   "mimetype": "text/x-python",
   "name": "python",
   "nbconvert_exporter": "python",
   "pygments_lexer": "ipython3",
   "version": "3.8.10"
  }
 },
 "nbformat": 4,
 "nbformat_minor": 5
}
