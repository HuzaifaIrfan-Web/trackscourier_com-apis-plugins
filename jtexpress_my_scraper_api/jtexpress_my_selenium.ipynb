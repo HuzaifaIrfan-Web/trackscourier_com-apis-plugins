{
 "cells": [
  {
   "cell_type": "code",
   "execution_count": 8,
   "source": [
    "\r\n",
    "from bs4 import BeautifulSoup\r\n",
    "\r\n",
    "import uuid\r\n",
    "\r\n",
    "\r\n",
    "from selenium import webdriver\r\n",
    "from selenium.webdriver.chrome.options import Options\r\n",
    "from selenium.webdriver.common.by import By\r\n",
    "from selenium.webdriver.support.ui import WebDriverWait\r\n",
    "from selenium.webdriver.support import expected_conditions as EC\r\n",
    "\r\n",
    "chrome_opt = Options()\r\n",
    "# chrome_opt.add_argument('--headless')\r\n",
    "chrome_opt.add_argument('--no-sandbox')\r\n",
    "chrome_opt.add_argument('--disable-dev-sh--usage')\r\n",
    "\r\n",
    "chrome_prefs = {}\r\n",
    "chrome_prefs[\"profile.default_content_settings\"] = {\"images\": 2}\r\n",
    "chrome_prefs[\"profile.managed_default_content_settings\"] = {\"images\": 2}\r\n",
    "chrome_opt.experimental_options[\"prefs\"] = chrome_prefs\r\n"
   ],
   "outputs": [],
   "metadata": {}
  },
  {
   "cell_type": "code",
   "execution_count": 9,
   "source": [
    "tnum=620000295758173"
   ],
   "outputs": [],
   "metadata": {}
  },
  {
   "cell_type": "code",
   "execution_count": 10,
   "source": [
    "url=f'https://www.jtexpress.my/tracking/{tnum}'"
   ],
   "outputs": [],
   "metadata": {}
  },
  {
   "cell_type": "code",
   "execution_count": 11,
   "source": [
    "driver = webdriver.Chrome(options=chrome_opt)\n",
    "driver.get(url)"
   ],
   "outputs": [],
   "metadata": {}
  },
  {
   "cell_type": "code",
   "execution_count": 93,
   "source": [
    "el = driver.find_element_by_class_name('accordion')"
   ],
   "outputs": [],
   "metadata": {}
  },
  {
   "cell_type": "code",
   "execution_count": 94,
   "source": [
    "innerHtml=el.get_attribute('innerHTML')"
   ],
   "outputs": [],
   "metadata": {}
  },
  {
   "cell_type": "code",
   "execution_count": 95,
   "source": [
    "soup = BeautifulSoup(innerHtml, 'html.parser')"
   ],
   "outputs": [],
   "metadata": {}
  },
  {
   "cell_type": "code",
   "execution_count": 96,
   "source": [
    "body=soup.find(class_=\"accordion-body\")"
   ],
   "outputs": [],
   "metadata": {}
  },
  {
   "cell_type": "code",
   "execution_count": 97,
   "source": [
    "alert=soup.find(class_=\"alert\")\n",
    "if alert:\n",
    "    print('Sorry, information not found')"
   ],
   "outputs": [],
   "metadata": {}
  },
  {
   "cell_type": "code",
   "execution_count": 98,
   "source": [
    "status_history=[]"
   ],
   "outputs": [],
   "metadata": {}
  },
  {
   "cell_type": "code",
   "execution_count": null,
   "source": [],
   "outputs": [],
   "metadata": {}
  },
  {
   "cell_type": "code",
   "execution_count": 99,
   "source": [
    "for parent in body.findChildren(recursive=False):\n",
    "    children=parent.findChildren(recursive=False)\n",
    "    dated_status_obj={}\n",
    "    for n, child in enumerate(children):\n",
    "        if (n % 2) == 0:\n",
    "            #even dates\n",
    "            date=child.text.strip()\n",
    "#             print(date)\n",
    "            dated_status_obj={'date':date}\n",
    "            \n",
    "        else:\n",
    "            #odd time statuses and locations\n",
    "            history = child.find_all(class_=\"row\")\n",
    "            statuses=[]\n",
    "            for a_status in history:\n",
    "\n",
    "                time=a_status.find(class_=\"fw-b mt-3\").text.strip()\n",
    "                status=a_status.find(\"b\").text.strip()\n",
    "                location=a_status.find(class_=\"fw-light\").text.strip()\n",
    "#                 print(f'{time} {status} {location}')\n",
    "                \n",
    "                status_obj={'time':time,'status':status,'location':location}\n",
    "                statuses.append(status_obj)\n",
    "                \n",
    "            dated_status_obj['statuses']=statuses\n",
    "            status_history.append(dated_status_obj)\n",
    "            \n",
    "print(status_history)\n",
    "            \n",
    "\n",
    "\n",
    "        "
   ],
   "outputs": [
    {
     "output_type": "stream",
     "name": "stdout",
     "text": [
      "[{'date': '2021-09-10, Friday', 'statuses': [{'time': '05:34 PM', 'status': 'Delivered', 'location': 'Drop Point CDC GAUNG LATI 327'}, {'time': '10:57 AM', 'status': 'Delivery', 'location': 'Drop Point CDC GAUNG LATI 327'}, {'time': '09:11 AM', 'status': 'Inbound', 'location': 'Drop Point CDC GAUNG LATI 327'}]}, {'date': '2021-09-09, Thursday', 'statuses': [{'time': '11:47 PM', 'status': 'Outbound', 'location': 'Transit Center KTN GATEWAY'}, {'time': '07:52 PM', 'status': 'Inbound', 'location': 'Transit Center KTN GATEWAY'}, {'time': '02:34 PM', 'status': 'Outbound', 'location': 'Drop Point CDC CENTRAL PARK 319'}, {'time': '02:29 PM', 'status': 'Outbound', 'location': 'Drop Point CDC CENTRAL PARK 319'}, {'time': '02:24 PM', 'status': 'Outbound', 'location': 'Drop Point CDC CENTRAL PARK 319'}, {'time': '02:23 PM', 'status': 'On Hold', 'location': 'Drop Point CDC CENTRAL PARK 319'}, {'time': '02:23 PM', 'status': 'Delivery', 'location': 'Drop Point CDC CENTRAL PARK 319'}, {'time': '02:02 PM', 'status': 'Inbound', 'location': 'Drop Point CDC CENTRAL PARK 319'}, {'time': '11:21 AM', 'status': 'Outbound', 'location': 'Transit Center KTN GATEWAY'}, {'time': '10:33 AM', 'status': 'Inbound', 'location': 'Transit Center KTN GATEWAY'}]}, {'date': '2021-09-08, Wednesday', 'statuses': [{'time': '10:00 PM', 'status': 'Outbound', 'location': 'Transit Center PJS GATEWAY'}, {'time': '10:00 PM', 'status': 'Load Truck', 'location': 'Transit Center PJS GATEWAY'}, {'time': '06:04 PM', 'status': 'Inbound', 'location': 'Transit Center PJS GATEWAY'}, {'time': '04:49 PM', 'status': 'Outbound', 'location': 'Drop Point DP PORTKLANG 01'}, {'time': '01:57 PM', 'status': 'Outbound', 'location': 'Drop Point DP PORTKLANG 01'}, {'time': '01:30 PM', 'status': 'Picked Up', 'location': 'Drop Point DP PORTKLANG 01'}]}]\n"
     ]
    }
   ],
   "metadata": {}
  },
  {
   "cell_type": "code",
   "execution_count": 100,
   "source": [
    "direction=soup.find(class_=\"col-12 text-start\").text.strip().split()\n",
    "print(direction)"
   ],
   "outputs": [
    {
     "output_type": "stream",
     "name": "stdout",
     "text": [
      "['SELANGOR', 'KELANTAN']\n"
     ]
    }
   ],
   "metadata": {}
  },
  {
   "cell_type": "code",
   "execution_count": 101,
   "source": [
    "\n",
    "try:\n",
    "    origin=direction[0]\n",
    "except:\n",
    "    origin=None\n",
    "\n",
    "try:\n",
    "    destination=direction[1]\n",
    "except:\n",
    "    destination=None\n",
    "    \n",
    "status=soup.find(class_=\"text-center mx-auto mb-3 fw-light h3\").text.strip()"
   ],
   "outputs": [],
   "metadata": {}
  },
  {
   "cell_type": "code",
   "execution_count": 102,
   "source": [
    "return_obj={'tnum':tnum,'origin':origin,'destination':destination,'status':status,'status_history':status_history}"
   ],
   "outputs": [],
   "metadata": {}
  },
  {
   "cell_type": "code",
   "execution_count": 103,
   "source": [
    "print(return_obj)"
   ],
   "outputs": [
    {
     "output_type": "stream",
     "name": "stdout",
     "text": [
      "{'tnum': 620000295758173, 'origin': 'SELANGOR', 'destination': 'KELANTAN', 'status': 'Delivered', 'status_history': [{'date': '2021-09-10, Friday', 'statuses': [{'time': '05:34 PM', 'status': 'Delivered', 'location': 'Drop Point CDC GAUNG LATI 327'}, {'time': '10:57 AM', 'status': 'Delivery', 'location': 'Drop Point CDC GAUNG LATI 327'}, {'time': '09:11 AM', 'status': 'Inbound', 'location': 'Drop Point CDC GAUNG LATI 327'}]}, {'date': '2021-09-09, Thursday', 'statuses': [{'time': '11:47 PM', 'status': 'Outbound', 'location': 'Transit Center KTN GATEWAY'}, {'time': '07:52 PM', 'status': 'Inbound', 'location': 'Transit Center KTN GATEWAY'}, {'time': '02:34 PM', 'status': 'Outbound', 'location': 'Drop Point CDC CENTRAL PARK 319'}, {'time': '02:29 PM', 'status': 'Outbound', 'location': 'Drop Point CDC CENTRAL PARK 319'}, {'time': '02:24 PM', 'status': 'Outbound', 'location': 'Drop Point CDC CENTRAL PARK 319'}, {'time': '02:23 PM', 'status': 'On Hold', 'location': 'Drop Point CDC CENTRAL PARK 319'}, {'time': '02:23 PM', 'status': 'Delivery', 'location': 'Drop Point CDC CENTRAL PARK 319'}, {'time': '02:02 PM', 'status': 'Inbound', 'location': 'Drop Point CDC CENTRAL PARK 319'}, {'time': '11:21 AM', 'status': 'Outbound', 'location': 'Transit Center KTN GATEWAY'}, {'time': '10:33 AM', 'status': 'Inbound', 'location': 'Transit Center KTN GATEWAY'}]}, {'date': '2021-09-08, Wednesday', 'statuses': [{'time': '10:00 PM', 'status': 'Outbound', 'location': 'Transit Center PJS GATEWAY'}, {'time': '10:00 PM', 'status': 'Load Truck', 'location': 'Transit Center PJS GATEWAY'}, {'time': '06:04 PM', 'status': 'Inbound', 'location': 'Transit Center PJS GATEWAY'}, {'time': '04:49 PM', 'status': 'Outbound', 'location': 'Drop Point DP PORTKLANG 01'}, {'time': '01:57 PM', 'status': 'Outbound', 'location': 'Drop Point DP PORTKLANG 01'}, {'time': '01:30 PM', 'status': 'Picked Up', 'location': 'Drop Point DP PORTKLANG 01'}]}]}\n"
     ]
    }
   ],
   "metadata": {}
  }
 ],
 "metadata": {
  "kernelspec": {
   "display_name": "Python 3 (ipykernel)",
   "language": "python",
   "name": "python3"
  },
  "language_info": {
   "codemirror_mode": {
    "name": "ipython",
    "version": 3
   },
   "file_extension": ".py",
   "mimetype": "text/x-python",
   "name": "python",
   "nbconvert_exporter": "python",
   "pygments_lexer": "ipython3",
   "version": "3.9.7"
  }
 },
 "nbformat": 4,
 "nbformat_minor": 5
}